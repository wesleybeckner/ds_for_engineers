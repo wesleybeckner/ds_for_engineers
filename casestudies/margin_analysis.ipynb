{
 "cells": [
  {
   "cell_type": "code",
   "execution_count": 103,
   "metadata": {},
   "outputs": [],
   "source": [
    "import pandas as pd\n",
    "import numpy as np\n",
    "import datetime\n",
    "import matplotlib.pyplot as plt\n",
    "import plotly.express as px\n",
    "import random\n",
    "import scipy.stats"
   ]
  },
  {
   "cell_type": "code",
   "execution_count": 104,
   "metadata": {},
   "outputs": [],
   "source": [
    "from jupyter_dash import JupyterDash\n",
    "import dash_core_components as dcc\n",
    "import dash_daq as daq\n",
    "import dash_html_components as html\n",
    "from dash.dependencies import Input, Output\n",
    "import plotly.graph_objects as go\n",
    "import plotly.express as px\n",
    "from itertools import cycle"
   ]
  },
  {
   "cell_type": "code",
   "execution_count": 105,
   "metadata": {},
   "outputs": [],
   "source": [
    "df = pd.read_csv('../data/margin_data.csv')\n",
    "df['Width'] = df['Width'].apply(str)\n",
    "df['Height'] = df['Height'].apply(str)"
   ]
  },
  {
   "cell_type": "code",
   "execution_count": 106,
   "metadata": {},
   "outputs": [],
   "source": [
    "descriptors = df.columns[:-3]"
   ]
  },
  {
   "cell_type": "code",
   "execution_count": 107,
   "metadata": {},
   "outputs": [],
   "source": [
    "delimiters = df.columns[:-3]\n",
    "moodsdf = pd.DataFrame()\n",
    "pop = list(df['EBITDA'])\n",
    "# pop = np.random.choice(pop, size=int(1e5))\n",
    "for delimiter in delimiters:\n",
    "    grouped = df.groupby(delimiter)['EBITDA']\n",
    "    group_with_values = grouped.apply(list)\n",
    "\n",
    "    # bootstrap population of values based on groups\n",
    "#     pop = np.random.choice((np.concatenate(group_with_values)), \n",
    "#                            size=int(1e4))\n",
    "    \n",
    "    for index, group in enumerate(group_with_values):\n",
    "        stat, p, m, table = scipy.stats.median_test(group, pop)\n",
    "        median = np.median(group)\n",
    "        mean = np.mean(group)\n",
    "        size = len(group)\n",
    "        moodsdf = pd.concat([moodsdf, \n",
    "                                 pd.DataFrame([delimiter, group_with_values.index[index],\n",
    "                                              stat, p, m, mean, median, size, table]).T])\n",
    "moodsdf.columns = ['descriptor', 'group', 'pearsons_chi_square', 'p_value', 'grand_median', 'group_mean',\n",
    "                   'group_median', 'size', 'table']\n"
   ]
  },
  {
   "cell_type": "code",
   "execution_count": 108,
   "metadata": {},
   "outputs": [],
   "source": [
    "moodsdf = moodsdf.loc[moodsdf['p_value'] < 1e-3]\n",
    "moodsdf = moodsdf.sort_values('group_median').reset_index(drop=True)"
   ]
  },
  {
   "cell_type": "code",
   "execution_count": 109,
   "metadata": {},
   "outputs": [],
   "source": [
    "def make_violin_plot(sort='Worst', select=[0,5], descriptors=None):\n",
    "\n",
    "    if sort == 'Best':\n",
    "        local_df = moodsdf.sort_values('group_median', ascending=False)\n",
    "        local_df = local_df.reset_index(drop=True)\n",
    "    else:\n",
    "        local_df = moodsdf\n",
    "    if descriptors != None:\n",
    "        local_df = local_df.loc[local_df['descriptor'].isin(descriptors)]\n",
    "    fig = go.Figure()\n",
    "    for index in range(select[0],select[1]):\n",
    "        x = df.loc[(df[local_df.iloc[index]['descriptor']] == \\\n",
    "            local_df.iloc[index]['group'])]['EBITDA']\n",
    "        y = local_df.iloc[index]['descriptor'] + ': ' + df.loc[(df[local_df\\\n",
    "            .iloc[index]['descriptor']] == local_df.iloc[index]['group'])]\\\n",
    "            [local_df.iloc[index]['descriptor']]\n",
    "        name = '€ {:.0f}'.format(x.median())\n",
    "        fig.add_trace(go.Violin(x=y,\n",
    "                                y=x,\n",
    "                                name=name,\n",
    "                                box_visible=True,\n",
    "                                meanline_visible=True))\n",
    "    fig.update_layout({\n",
    "                \"plot_bgcolor\": \"#FFFFFF\",\n",
    "                \"paper_bgcolor\": \"#FFFFFF\",\n",
    "                \"title\": 'EBITDA by Product Descriptor (Median in Legend)',\n",
    "                \"yaxis.title\": \"EBITDA (€)\",\n",
    "                \"height\": 325,\n",
    "                \"font\": dict(\n",
    "                            size=10),\n",
    "                \"margin\": dict(\n",
    "                       l=0,\n",
    "                       r=0,\n",
    "                       b=0,\n",
    "                       t=30,\n",
    "                       pad=4\n",
    "   ),\n",
    "                })\n",
    "\n",
    "    return fig\n",
    "\n",
    "def make_sunburst_plot(clickData=None, toAdd=None, col=None, val=None):\n",
    "    if clickData != None:\n",
    "        col = clickData[\"points\"][0]['x'].split(\": \")[0]\n",
    "        val = clickData[\"points\"][0]['x'].split(\": \")[1]\n",
    "    elif col == None:\n",
    "        col = moodsdf.iloc[-1]['descriptor']\n",
    "        val = moodsdf.iloc[-1]['group']\n",
    "\n",
    "    desc = list(descriptors[:-2])\n",
    "    if col in desc:\n",
    "        desc.remove(col)\n",
    "    if toAdd != None:\n",
    "        for item in toAdd:\n",
    "            desc.append(item)\n",
    "    test = df.loc[df[col] == val]\n",
    "    fig = px.sunburst(test, path=desc[:], color='EBITDA', title='{}: {}'.format(\n",
    "        col, val),\n",
    "        color_continuous_scale=px.colors.sequential.Viridis\n",
    "                     )\n",
    "    fig.update_layout({\n",
    "                \"plot_bgcolor\": \"#FFFFFF\",\n",
    "                \"title\": '(Select in Violin) {}: {}'.format(col,val),\n",
    "                \"paper_bgcolor\": \"#FFFFFF\",\n",
    "                \"height\": 325,\n",
    "                \"font\": dict(\n",
    "                    size=10),\n",
    "                \"margin\": dict(\n",
    "                       l=0,\n",
    "                       r=0,\n",
    "                       b=0,\n",
    "                       t=30,\n",
    "                       pad=4\n",
    "   ),\n",
    "                })\n",
    "    return fig\n",
    "\n",
    "def make_ebit_plot(df, select=None, sort='Worst', descriptors=None):\n",
    "    families = df[df.columns[0]].unique()\n",
    "    colors = ['#636EFA', '#EF553B', '#00CC96', '#AB63FA', '#FFA15A', '#19D3F3',\\\n",
    "              '#FF6692', '#B6E880', '#FF97FF', '#FECB52']\n",
    "    colors_cycle = cycle(colors)\n",
    "    \n",
    "    color_dic = {'{}'.format(i): '{}'.format(j) for i, j  in zip(families,\n",
    "                                                                 colors)}\n",
    "    \n",
    "    fig = go.Figure()\n",
    "\n",
    "\n",
    "    if select == None:\n",
    "        for data in px.scatter(\n",
    "                df,\n",
    "                x='Product',\n",
    "                y='EBITDA',\n",
    "                color=df.columns[0],\n",
    "                color_discrete_map=color_dic,\n",
    "                opacity=1).data:\n",
    "            fig.add_trace(\n",
    "                data\n",
    "            )\n",
    "\n",
    "    elif select != None:\n",
    "        color_dic = {'{}'.format(i): '{}'.format(j) for i, j  in zip(select,\n",
    "                                                                     colors)}\n",
    "        for data in px.scatter(\n",
    "                df,\n",
    "                x='Product',\n",
    "                y='EBITDA',\n",
    "                color=df.columns[0],\n",
    "\n",
    "                color_discrete_map=color_dic,\n",
    "                opacity=0.09).data:\n",
    "            fig.add_trace(\n",
    "                data\n",
    "            )\n",
    "\n",
    "        if sort == 'Best':\n",
    "            local_df = moodsdf.sort_values('group_median', ascending=False)\n",
    "        elif sort == 'Worst':\n",
    "            local_df = moodsdf\n",
    "            \n",
    "\n",
    "\n",
    "        new_df = pd.DataFrame()\n",
    "        if descriptors != None:\n",
    "            local_df = local_df.loc[local_df['descriptor'].isin(descriptors)]\n",
    "        for index in select:\n",
    "            x = df.loc[(df[local_df.iloc[index]\\\n",
    "                ['descriptor']] == local_df.iloc[index]['group'])]\n",
    "            x['color'] = next(colors_cycle) # for line shapes\n",
    "            new_df = pd.concat([new_df, x])\n",
    "            new_df = new_df.reset_index(drop=True)\n",
    "#         for data in px.scatter(\n",
    "#                 new_df,\n",
    "#                 x='Product',\n",
    "#                 y='EBITDA',\n",
    "#                 color=df.columns[0],\n",
    "\n",
    "#                 color_discrete_map=color_dic,\n",
    "#                 opacity=1).data:\n",
    "#             fig.add_trace(\n",
    "#                 data\n",
    "#             )\n",
    "        shapes=[]\n",
    "\n",
    "        for index, i in enumerate(new_df['Product']):\n",
    "            shapes.append({'type': 'line',\n",
    "                           'xref': 'x',\n",
    "                           'yref': 'y',\n",
    "                           'x0': i,\n",
    "                           'y0': -4e5,\n",
    "                           'x1': i,\n",
    "                           'y1': 4e5,\n",
    "                           'line':dict(\n",
    "                               dash=\"dot\",\n",
    "                               color=new_df['color'][index],)})\n",
    "        fig.update_layout(shapes=shapes)\n",
    "    fig.update_layout({\n",
    "            \"plot_bgcolor\": \"#FFFFFF\",\n",
    "            \"paper_bgcolor\": \"#FFFFFF\",\n",
    "            \"title\": 'Rank Order EBITDA by {}'.format(df.columns[0]),\n",
    "            \"yaxis.title\": \"EBITDA (€)\",\n",
    "            \"height\": 325,\n",
    "            \"font\": dict(\n",
    "                        size=10),\n",
    "            \"margin\": dict(\n",
    "                   l=0,\n",
    "                   r=0,\n",
    "                   b=0,\n",
    "                   t=30,\n",
    "                   pad=4\n",
    "),\n",
    "            \"xaxis.tickfont.size\": 8,\n",
    "            })\n",
    "    return fig"
   ]
  },
  {
   "cell_type": "code",
   "execution_count": 110,
   "metadata": {},
   "outputs": [],
   "source": [
    "# Build App\n",
    "external_stylesheets = ['../assets/styles.css', '../assets/s1.css', 'https://codepen.io/chriddyp/pen/bWLwgP.css']\n",
    "\n",
    "app = JupyterDash(__name__, external_stylesheets=external_stylesheets)\n",
    "app.layout = html.Div([\n",
    "    html.Div([\n",
    "        html.Div([\n",
    "            html.P('Descriptors'),\n",
    "            dcc.Dropdown(id='descriptor_dropdown',\n",
    "                         options=[{'label': i, 'value': i} for i in descriptors],\n",
    "                         value=descriptors,\n",
    "                         multi=True,\n",
    "                         className=\"dcc_control\"),\n",
    "            html.P('Number of Descriptors:', id='descriptor-number'),\n",
    "            dcc.RangeSlider(\n",
    "                        id='select',\n",
    "                        min=0,\n",
    "                        max=moodsdf.shape[0],\n",
    "                        step=1,\n",
    "                        value=[0,10]),\n",
    "            html.P('Sort by:'),\n",
    "            dcc.RadioItems(\n",
    "                        id='sort',\n",
    "                        options=[{'label': i, 'value': j} for i, j in \\\n",
    "                                [['Low EBITDA', 'Worst'],\n",
    "                                ['High EBITDA', 'Best']]],\n",
    "                        value='Best',\n",
    "                        labelStyle={'display': 'inline-block'},\n",
    "                        style={\"margin-bottom\": \"10px\"},),\n",
    "            html.P('Toggle view Violin/Descriptor Data'),\n",
    "            daq.BooleanSwitch(\n",
    "                  id='daq-violin',\n",
    "                  on=False,\n",
    "                  style={\"margin-bottom\": \"10px\", \"margin-left\": \"0px\",\n",
    "                  'display': 'inline-block'}),\n",
    "            \n",
    "        ],  \n",
    "        className='mini_container',\n",
    "        id='descriptorBlock',\n",
    "        style={'width': '32%', 'display': 'inline-block'}\n",
    "        ),     \n",
    "        html.Div([\n",
    "            dcc.Graph(\n",
    "                        id='ebit_plot',\n",
    "                        figure=make_ebit_plot(df)),\n",
    "        ], \n",
    "        className='mini_container',\n",
    "        style={'width': '65%', 'float': 'right', 'display': 'inline-block'},\n",
    "        id='ebit-family-block'\n",
    "        ),\n",
    "\n",
    "    ], className='row container-display',\n",
    "       \n",
    "    ),\n",
    "\n",
    "    html.Div([\n",
    "        html.Div([\n",
    "            dcc.Graph(\n",
    "                id='violin_plot',\n",
    "                figure=make_violin_plot()),\n",
    "        ], \n",
    "        className='mini_container',\n",
    "        style={'width': '65%', 'display': 'inline-block'},\n",
    "        id='violin',\n",
    "        ),\n",
    "        html.Div([\n",
    "            dcc.Dropdown(id='length_width_dropdown',\n",
    "                        options=[{'label': 'Height', 'value': 'Height'},\n",
    "                                 {'label': 'Width', 'value': 'Width'}],\n",
    "                        value=['Width'],\n",
    "                        multi=True,\n",
    "                        placeholder=\"Include in sunburst chart...\",\n",
    "                        className=\"dcc_control\"),\n",
    "            dcc.Graph(\n",
    "                        id='sunburst_plot',\n",
    "                        figure=make_sunburst_plot()\n",
    "            ),\n",
    "            ], \n",
    "            className='mini_container',\n",
    "            style={'width': '32%', 'display': 'inline-block'},\n",
    "            id='sunburst',\n",
    "                ),\n",
    "            ], className='row container-display',\n",
    "               style={'margin-bottom': '50px'},\n",
    "            ),\n",
    "], className='pretty container'\n",
    ")"
   ]
  },
  {
   "cell_type": "code",
   "execution_count": 111,
   "metadata": {},
   "outputs": [],
   "source": [
    "@app.callback(\n",
    "    Output('sunburst_plot', 'figure'),\n",
    "    [Input('violin_plot', 'clickData'),\n",
    "     Input('length_width_dropdown', 'value'),\n",
    "     Input('sort', 'value'),\n",
    "     Input('select', 'value'),\n",
    "     Input('descriptor_dropdown', 'value')])\n",
    "def display_sunburst_plot(clickData, toAdd, sort, select, descriptors):\n",
    "    if sort == 'Best':\n",
    "        local_df = moodsdf.sort_values('group_median', ascending=False)\n",
    "        local_df = local_df.reset_index(drop=True)\n",
    "    else:\n",
    "        local_df = moodsdf\n",
    "    if descriptors != None:\n",
    "        local_df = local_df.loc[local_df['descriptor'].isin(descriptors)]\n",
    "    local_df = local_df.reset_index(drop=True)\n",
    "    col = local_df['descriptor'][select[0]]\n",
    "    val = local_df['group'][select[0]]\n",
    "    return make_sunburst_plot(clickData, toAdd, col, val)\n",
    "\n",
    "@app.callback(\n",
    "    [Output('select', 'max'),\n",
    "    Output('select', 'value')],\n",
    "    [Input('descriptor_dropdown', 'value')]\n",
    ")\n",
    "def update_descriptor_choices(descriptors):\n",
    "    max_value = moodsdf.loc[moodsdf['descriptor'].isin(descriptors)].shape[0]\n",
    "    value = min(5, max_value)\n",
    "    return max_value, [0, value]\n",
    "\n",
    "@app.callback(\n",
    "    Output('descriptor-number', 'children'),\n",
    "    [Input('select', 'value')]\n",
    ")\n",
    "def display_descriptor_number(select):\n",
    "    return \"Number of Descriptors: {}\".format(select[1]-select[0])\n",
    "\n",
    "@app.callback(\n",
    "    Output('violin_plot', 'figure'),\n",
    "    [Input('sort', 'value'),\n",
    "    Input('select', 'value'),\n",
    "    Input('descriptor_dropdown', 'value')]\n",
    ")\n",
    "def display_violin_plot(sort, select, descriptors):\n",
    "    return make_violin_plot(sort, select, descriptors)\n",
    "\n",
    "@app.callback(\n",
    "    Output('ebit_plot', 'figure'),\n",
    "    [Input('sort', 'value'),\n",
    "    Input('select', 'value'),\n",
    "    Input('descriptor_dropdown', 'value'),\n",
    "    Input('daq-violin', 'on')]\n",
    ")\n",
    "def display_ebit_plot(sort, select, descriptors, switch):\n",
    "    if switch == True:\n",
    "        select = list(np.arange(select[0],select[1]))\n",
    "        return make_ebit_plot(df, select, sort=sort, descriptors=descriptors)\n",
    "    else:\n",
    "        return make_ebit_plot(df)"
   ]
  },
  {
   "cell_type": "code",
   "execution_count": 112,
   "metadata": {},
   "outputs": [],
   "source": [
    "# app.run_server(mode='external', port='8881')"
   ]
  },
  {
   "cell_type": "markdown",
   "metadata": {},
   "source": [
    "# Margin Prediction Model\n",
    "\n",
    "We'll build a model that returns the expected value of a product. Then use it to hypothesize new products!"
   ]
  },
  {
   "cell_type": "code",
   "execution_count": 113,
   "metadata": {},
   "outputs": [],
   "source": [
    "from sklearn.preprocessing import OneHotEncoder\n",
    "from sklearn.model_selection import train_test_split"
   ]
  },
  {
   "cell_type": "code",
   "execution_count": 114,
   "metadata": {},
   "outputs": [],
   "source": [
    "enc = OneHotEncoder()"
   ]
  },
  {
   "cell_type": "code",
   "execution_count": 137,
   "metadata": {},
   "outputs": [
    {
     "data": {
      "text/plain": [
       "OneHotEncoder(categories='auto', drop=None, dtype=<class 'numpy.float64'>,\n",
       "              handle_unknown='error', sparse=True)"
      ]
     },
     "execution_count": 137,
     "metadata": {},
     "output_type": "execute_result"
    }
   ],
   "source": [
    "X_cat = df[df.columns[:-5]]\n",
    "enc.fit(X_cat)"
   ]
  },
  {
   "cell_type": "code",
   "execution_count": 138,
   "metadata": {},
   "outputs": [
    {
     "data": {
      "text/plain": [
       "(2506, 107)"
      ]
     },
     "execution_count": 138,
     "metadata": {},
     "output_type": "execute_result"
    }
   ],
   "source": [
    "onehotlabels = enc.transform(X_cat).toarray()\n",
    "onehotlabels.shape"
   ]
  },
  {
   "cell_type": "code",
   "execution_count": 139,
   "metadata": {},
   "outputs": [
    {
     "data": {
      "text/plain": [
       "(2506, 4)"
      ]
     },
     "execution_count": 139,
     "metadata": {},
     "output_type": "execute_result"
    }
   ],
   "source": [
    "X_num = df[df.columns[-5:-1]]\n",
    "X_num.shape"
   ]
  },
  {
   "cell_type": "code",
   "execution_count": 140,
   "metadata": {},
   "outputs": [
    {
     "data": {
      "text/plain": [
       "(2506, 111)"
      ]
     },
     "execution_count": 140,
     "metadata": {},
     "output_type": "execute_result"
    }
   ],
   "source": [
    "X = np.concatenate((onehotlabels, X_num.values),axis=1)\n",
    "X.shape"
   ]
  },
  {
   "cell_type": "code",
   "execution_count": 141,
   "metadata": {},
   "outputs": [
    {
     "data": {
      "text/plain": [
       "(2506,)"
      ]
     },
     "execution_count": 141,
     "metadata": {},
     "output_type": "execute_result"
    }
   ],
   "source": [
    "Y = df[df.columns[-2]].values\n",
    "Y.shape"
   ]
  },
  {
   "cell_type": "code",
   "execution_count": 142,
   "metadata": {},
   "outputs": [],
   "source": [
    "X_train, X_test, Y_train, Y_test =  train_test_split(X, Y, train_size=0.8, random_state=42)"
   ]
  },
  {
   "cell_type": "code",
   "execution_count": 143,
   "metadata": {},
   "outputs": [],
   "source": [
    "## scikit learn modules\n",
    "#. standardization\n",
    "from sklearn.preprocessing import StandardScaler\n",
    "\n",
    "#. ML models\n",
    "from sklearn.linear_model import LinearRegression, Ridge\n",
    "from sklearn.ensemble import RandomForestRegressor\n",
    "from sklearn.neural_network import MLPRegressor"
   ]
  },
  {
   "cell_type": "code",
   "execution_count": 144,
   "metadata": {},
   "outputs": [],
   "source": [
    "## Vanilla linear regression\n",
    "Linear = LinearRegression()\n",
    "\n",
    "## Regularized (Ridge, l2) linear regression\n",
    "LinearRidge = Ridge(alpha=10.0)\n",
    "\n",
    "## Random Forest model\n",
    "RandomForest = RandomForestRegressor(n_estimators=50)\n",
    "\n",
    "## Neural Network\n",
    "NeuralNetwork = MLPRegressor(alpha=8, hidden_layer_sizes=(135, 135, 135))\n",
    "\n",
    "## Codex dictionary of model names\n",
    "model_codex = {'Linear':Linear,\n",
    "               'LinearRidge':LinearRidge,\n",
    "               'RandomForest':RandomForest,\n",
    "               'NeuralNetwork':NeuralNetwork}"
   ]
  },
  {
   "cell_type": "code",
   "execution_count": 145,
   "metadata": {},
   "outputs": [],
   "source": [
    "# initiate the object\n",
    "standardizer = StandardScaler()\n",
    "\n",
    "# standardize based on training\n",
    "Xt_ = standardizer.fit_transform(X_train)"
   ]
  },
  {
   "cell_type": "code",
   "execution_count": 146,
   "metadata": {},
   "outputs": [
    {
     "data": {
      "text/plain": [
       "LinearRegression(copy_X=True, fit_intercept=True, n_jobs=None, normalize=False)"
      ]
     },
     "execution_count": 146,
     "metadata": {},
     "output_type": "execute_result"
    }
   ],
   "source": [
    "Linear.fit(X_train, Y_train)"
   ]
  },
  {
   "cell_type": "code",
   "execution_count": 147,
   "metadata": {},
   "outputs": [
    {
     "data": {
      "text/html": [
       "<div>\n",
       "<style scoped>\n",
       "    .dataframe tbody tr th:only-of-type {\n",
       "        vertical-align: middle;\n",
       "    }\n",
       "\n",
       "    .dataframe tbody tr th {\n",
       "        vertical-align: top;\n",
       "    }\n",
       "\n",
       "    .dataframe thead th {\n",
       "        text-align: right;\n",
       "    }\n",
       "</style>\n",
       "<table border=\"1\" class=\"dataframe\">\n",
       "  <thead>\n",
       "    <tr style=\"text-align: right;\">\n",
       "      <th></th>\n",
       "      <th>0</th>\n",
       "      <th>1</th>\n",
       "      <th>2</th>\n",
       "      <th>3</th>\n",
       "      <th>4</th>\n",
       "      <th>5</th>\n",
       "      <th>6</th>\n",
       "      <th>7</th>\n",
       "      <th>8</th>\n",
       "      <th>9</th>\n",
       "      <th>...</th>\n",
       "      <th>1994</th>\n",
       "      <th>1995</th>\n",
       "      <th>1996</th>\n",
       "      <th>1997</th>\n",
       "      <th>1998</th>\n",
       "      <th>1999</th>\n",
       "      <th>2000</th>\n",
       "      <th>2001</th>\n",
       "      <th>2002</th>\n",
       "      <th>2003</th>\n",
       "    </tr>\n",
       "  </thead>\n",
       "  <tbody>\n",
       "    <tr>\n",
       "      <th>0</th>\n",
       "      <td>393.06</td>\n",
       "      <td>-3193.21</td>\n",
       "      <td>1275.52</td>\n",
       "      <td>17304.83</td>\n",
       "      <td>64015.66</td>\n",
       "      <td>-6137.55</td>\n",
       "      <td>-738.96</td>\n",
       "      <td>1665.93</td>\n",
       "      <td>-772.58</td>\n",
       "      <td>-294.21</td>\n",
       "      <td>...</td>\n",
       "      <td>1552.87</td>\n",
       "      <td>27617.02</td>\n",
       "      <td>7107.95</td>\n",
       "      <td>1151.31</td>\n",
       "      <td>-1030.35</td>\n",
       "      <td>403.39</td>\n",
       "      <td>43573.07</td>\n",
       "      <td>18740.91</td>\n",
       "      <td>4664.49</td>\n",
       "      <td>-208.26</td>\n",
       "    </tr>\n",
       "    <tr>\n",
       "      <th>1</th>\n",
       "      <td>393.06</td>\n",
       "      <td>-3193.21</td>\n",
       "      <td>1275.52</td>\n",
       "      <td>17304.83</td>\n",
       "      <td>64015.66</td>\n",
       "      <td>-6137.55</td>\n",
       "      <td>-738.96</td>\n",
       "      <td>1665.93</td>\n",
       "      <td>-772.58</td>\n",
       "      <td>-294.21</td>\n",
       "      <td>...</td>\n",
       "      <td>1552.87</td>\n",
       "      <td>27617.02</td>\n",
       "      <td>7107.95</td>\n",
       "      <td>1151.31</td>\n",
       "      <td>-1030.35</td>\n",
       "      <td>403.39</td>\n",
       "      <td>43573.07</td>\n",
       "      <td>18740.91</td>\n",
       "      <td>4664.49</td>\n",
       "      <td>-208.26</td>\n",
       "    </tr>\n",
       "  </tbody>\n",
       "</table>\n",
       "<p>2 rows × 2004 columns</p>\n",
       "</div>"
      ],
      "text/plain": [
       "     0        1        2         3         4        5       6        7     \\\n",
       "0  393.06 -3193.21  1275.52  17304.83  64015.66 -6137.55 -738.96  1665.93   \n",
       "1  393.06 -3193.21  1275.52  17304.83  64015.66 -6137.55 -738.96  1665.93   \n",
       "\n",
       "     8       9     ...     1994      1995     1996     1997     1998    1999  \\\n",
       "0 -772.58 -294.21  ...  1552.87  27617.02  7107.95  1151.31 -1030.35  403.39   \n",
       "1 -772.58 -294.21  ...  1552.87  27617.02  7107.95  1151.31 -1030.35  403.39   \n",
       "\n",
       "       2000      2001     2002    2003  \n",
       "0  43573.07  18740.91  4664.49 -208.26  \n",
       "1  43573.07  18740.91  4664.49 -208.26  \n",
       "\n",
       "[2 rows x 2004 columns]"
      ]
     },
     "execution_count": 147,
     "metadata": {},
     "output_type": "execute_result"
    }
   ],
   "source": [
    "pd.DataFrame([Y_train,Linear.predict(X_train)])"
   ]
  },
  {
   "cell_type": "code",
   "execution_count": 148,
   "metadata": {},
   "outputs": [
    {
     "data": {
      "text/plain": [
       "[<matplotlib.lines.Line2D at 0x7f9248b50690>]"
      ]
     },
     "execution_count": 148,
     "metadata": {},
     "output_type": "execute_result"
    },
    {
     "data": {
      "image/png": "[encoded data removed]",
      "text/plain": [
       "<Figure size 432x288 with 1 Axes>"
      ]
     },
     "metadata": {
      "needs_background": "light"
     },
     "output_type": "display_data"
    }
   ],
   "source": [
    "plt.plot(Y_train, Linear.predict(X_train), ls='', marker='.')"
   ]
  },
  {
   "cell_type": "code",
   "execution_count": 149,
   "metadata": {},
   "outputs": [
    {
     "data": {
      "text/plain": [
       "[<matplotlib.lines.Line2D at 0x7f9248c07790>]"
      ]
     },
     "execution_count": 149,
     "metadata": {},
     "output_type": "execute_result"
    },
    {
     "data": {
      "image/png": "[encoded data removed]",
      "text/plain": [
       "<Figure size 432x288 with 1 Axes>"
      ]
     },
     "metadata": {
      "needs_background": "light"
     },
     "output_type": "display_data"
    }
   ],
   "source": [
    "plt.plot(Y_test, Linear.predict(X_test), ls='', marker='.')"
   ]
  },
  {
   "cell_type": "code",
   "execution_count": 150,
   "metadata": {},
   "outputs": [
    {
     "data": {
      "text/plain": [
       "Ridge(alpha=10.0, copy_X=True, fit_intercept=True, max_iter=None,\n",
       "      normalize=False, random_state=None, solver='auto', tol=0.001)"
      ]
     },
     "execution_count": 150,
     "metadata": {},
     "output_type": "execute_result"
    }
   ],
   "source": [
    "LinearRidge.fit(X_train, Y_train)"
   ]
  },
  {
   "cell_type": "code",
   "execution_count": 151,
   "metadata": {},
   "outputs": [
    {
     "data": {
      "text/plain": [
       "[<matplotlib.lines.Line2D at 0x7f9248c5de90>]"
      ]
     },
     "execution_count": 151,
     "metadata": {},
     "output_type": "execute_result"
    },
    {
     "data": {
      "image/png": "[encoded data removed]",
      "text/plain": [
       "<Figure size 432x288 with 1 Axes>"
      ]
     },
     "metadata": {
      "needs_background": "light"
     },
     "output_type": "display_data"
    }
   ],
   "source": [
    "plt.plot(Y_test, LinearRidge.predict(X_test), ls='', marker='.')"
   ]
  },
  {
   "cell_type": "code",
   "execution_count": 152,
   "metadata": {},
   "outputs": [
    {
     "data": {
      "text/plain": [
       "RandomForestRegressor(bootstrap=True, ccp_alpha=0.0, criterion='mse',\n",
       "                      max_depth=None, max_features='auto', max_leaf_nodes=None,\n",
       "                      max_samples=None, min_impurity_decrease=0.0,\n",
       "                      min_impurity_split=None, min_samples_leaf=1,\n",
       "                      min_samples_split=2, min_weight_fraction_leaf=0.0,\n",
       "                      n_estimators=50, n_jobs=None, oob_score=False,\n",
       "                      random_state=None, verbose=0, warm_start=False)"
      ]
     },
     "execution_count": 152,
     "metadata": {},
     "output_type": "execute_result"
    }
   ],
   "source": [
    "RandomForest.fit(X_train, Y_train)"
   ]
  },
  {
   "cell_type": "code",
   "execution_count": 153,
   "metadata": {},
   "outputs": [
    {
     "data": {
      "text/plain": [
       "[<matplotlib.lines.Line2D at 0x7f9248b1b390>]"
      ]
     },
     "execution_count": 153,
     "metadata": {},
     "output_type": "execute_result"
    },
    {
     "data": {
      "image/png": "[encoded data removed]",
      "text/plain": [
       "<Figure size 432x288 with 1 Axes>"
      ]
     },
     "metadata": {
      "needs_background": "light"
     },
     "output_type": "display_data"
    }
   ],
   "source": [
    "plt.plot(Y_test,RandomForest.predict(X_test), ls='', marker='.')"
   ]
  },
  {
   "cell_type": "code",
   "execution_count": 154,
   "metadata": {},
   "outputs": [
    {
     "data": {
      "text/plain": [
       "MLPRegressor(activation='relu', alpha=8, batch_size='auto', beta_1=0.9,\n",
       "             beta_2=0.999, early_stopping=False, epsilon=1e-08,\n",
       "             hidden_layer_sizes=(135, 135, 135), learning_rate='constant',\n",
       "             learning_rate_init=0.001, max_fun=15000, max_iter=200,\n",
       "             momentum=0.9, n_iter_no_change=10, nesterovs_momentum=True,\n",
       "             power_t=0.5, random_state=None, shuffle=True, solver='adam',\n",
       "             tol=0.0001, validation_fraction=0.1, verbose=False,\n",
       "             warm_start=False)"
      ]
     },
     "execution_count": 154,
     "metadata": {},
     "output_type": "execute_result"
    }
   ],
   "source": [
    "NeuralNetwork.fit(X_train,Y_train)"
   ]
  },
  {
   "cell_type": "code",
   "execution_count": 155,
   "metadata": {},
   "outputs": [
    {
     "data": {
      "text/plain": [
       "[<matplotlib.lines.Line2D at 0x7f9248afabd0>]"
      ]
     },
     "execution_count": 155,
     "metadata": {},
     "output_type": "execute_result"
    },
    {
     "data": {
      "image/png": "[encoded data removed]",
      "text/plain": [
       "<Figure size 432x288 with 1 Axes>"
      ]
     },
     "metadata": {
      "needs_background": "light"
     },
     "output_type": "display_data"
    }
   ],
   "source": [
    "plt.plot(Y_test,NeuralNetwork.predict(X_test), ls='', marker='.')"
   ]
  },
  {
   "cell_type": "code",
   "execution_count": 156,
   "metadata": {},
   "outputs": [
    {
     "data": {
      "text/plain": [
       "[array(['Butter', 'Cheese', 'Chiffon', 'Pound', 'Sponge', 'Tiramisu'],\n",
       "       dtype=object),\n",
       " array(['Candy Outer', 'Chocolate Outer', 'Jelly Filled'], dtype=object),\n",
       " array(['Acai Berry', 'Amaretto', 'Apricot', 'Bavarian Cream',\n",
       "        'Birch Beer', 'Black Licorice', 'Blueberry', 'Bourbon',\n",
       "        'Butter Milk', 'Butter Pecan', 'Butter Toffee', 'Caramel Cream',\n",
       "        'Cheesecake', 'Cherry Cola', 'Cherry Cream Spice', 'Chocolate',\n",
       "        'Chocolate Mint', 'Coconut', 'Coffee', 'Cream Soda',\n",
       "        'Creme de Menthe', 'Dill Pickle', 'Doughnut', 'Fruit Punch',\n",
       "        'Ginger Ale', 'Ginger Beer', 'Ginger Lime', 'Gingersnap',\n",
       "        'Grand Mariner', 'Horchata', 'Huckleberry', 'Irish Cream',\n",
       "        'Kettle Corn', 'Lemon', 'Lemon Bar', 'Lemon Custard', 'Mango',\n",
       "        'Margarita', 'Orange', 'Orange Brandy', 'Orange Pineapple\\tP',\n",
       "        'Pear', 'Pecan', 'Pink Lemonade', 'Plum', 'Raspberry Ginger Ale',\n",
       "        'Sassafras', 'Sour', 'Spice', 'Toasted Coconut', 'Vanilla',\n",
       "        'Watermelon', 'Wild Cherry Cream', 'Wintergreen'], dtype=object),\n",
       " array(['Apple', 'Apricot', 'Banana', 'Black Cherry', 'Black Currant',\n",
       "        'Butter Rum', 'Cucumber', 'Dill Pickle', 'Egg Nog', 'Fuzzy Navel',\n",
       "        'Ginger Beer', 'Hazelnut', 'Kiwi', 'Lemon', 'Macadamia Nut',\n",
       "        'Mango', 'Mixed Berry', 'Mojito', 'Papaya', 'Passion Fruit',\n",
       "        'Pear', 'Pecan', 'Peppermint', 'Rock and Rye', 'Rum', 'Tangerine',\n",
       "        'Toffee', 'Tutti Frutti', 'Vanilla', 'Whipped Cream',\n",
       "        'Wild Cherry Cream'], dtype=object),\n",
       " array(['Amethyst', 'Black', 'Burgundy', 'Citrine', 'Mint', 'Olive',\n",
       "        'Opal', 'Rose', 'Slate', 'Taupe', 'Teal', 'Tiffany', 'White'],\n",
       "       dtype=object)]"
      ]
     },
     "execution_count": 156,
     "metadata": {},
     "output_type": "execute_result"
    }
   ],
   "source": [
    "enc.categories_"
   ]
  },
  {
   "cell_type": "code",
   "execution_count": null,
   "metadata": {},
   "outputs": [],
   "source": []
  }
 ],
 "metadata": {
  "kernelspec": {
   "display_name": "Python 3",
   "language": "python",
   "name": "python3"
  },
  "language_info": {
   "codemirror_mode": {
    "name": "ipython",
    "version": 3
   },
   "file_extension": ".py",
   "mimetype": "text/x-python",
   "name": "python",
   "nbconvert_exporter": "python",
   "pygments_lexer": "ipython3",
   "version": "3.8.1"
  }
 },
 "nbformat": 4,
 "nbformat_minor": 4
}
