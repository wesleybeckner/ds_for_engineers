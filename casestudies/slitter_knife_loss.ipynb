{
 "cells": [
  {
   "cell_type": "code",
   "execution_count": 1,
   "metadata": {},
   "outputs": [
    {
     "name": "stderr",
     "output_type": "stream",
     "text": [
      "/home/wbeckner/anaconda3/envs/py37/lib/python3.7/site-packages/statsmodels/tools/_testing.py:19: FutureWarning: pandas.util.testing is deprecated. Use the functions in the public API at pandas.testing instead.\n",
      "  import pandas.util.testing as tm\n"
     ]
    }
   ],
   "source": [
    "import pandas as pd\n",
    "import numpy as np\n",
    "import seaborn as sns\n",
    "from sklearn.neighbors import KNeighborsClassifier\n",
    "from sklearn.neighbors import KNeighborsRegressor\n",
    "from sklearn.model_selection import train_test_split\n",
    "import matplotlib.pyplot as plt\n",
    "import joblib\n",
    "from ipywidgets import interact"
   ]
  },
  {
   "cell_type": "markdown",
   "metadata": {},
   "source": [
    "# API\n",
    "\n",
    "send - type/treatment, GSM, full width line 11, full width line 13; receive neck-in and confidence level"
   ]
  },
  {
   "cell_type": "code",
   "execution_count": 2,
   "metadata": {},
   "outputs": [],
   "source": [
    "def schedule_api(treat, gsm, width11, width13, slitwidth):\n",
    "    knn = joblib.load(\"../data/slitter_knife_loss/{}.sav\".format(treat))\n",
    "    pred = knn.predict([[gsm, width11, width13, slitwidth]])\n",
    "    pred = round(pred[0])\n",
    "    return \"\"\"{}\"\"\".format(pred)"
   ]
  },
  {
   "cell_type": "code",
   "execution_count": 3,
   "metadata": {},
   "outputs": [
    {
     "name": "stderr",
     "output_type": "stream",
     "text": [
      "/home/wbeckner/anaconda3/envs/py37/lib/python3.7/site-packages/sklearn/base.py:318: UserWarning: Trying to unpickle estimator KNeighborsRegressor from version 0.22.2.post1 when using version 0.22.1. This might lead to breaking code or invalid results. Use at your own risk.\n",
      "  UserWarning)\n"
     ]
    },
    {
     "data": {
      "text/plain": [
       "'5.0'"
      ]
     },
     "execution_count": 3,
     "metadata": {},
     "output_type": "execute_result"
    }
   ],
   "source": [
    "schedule_api(\"SSS Untreated\", 9, 4325, 4365, 400)"
   ]
  },
  {
   "cell_type": "markdown",
   "metadata": {},
   "source": [
    "# Train"
   ]
  },
  {
   "cell_type": "code",
   "execution_count": null,
   "metadata": {},
   "outputs": [],
   "source": [
    "sheets = ['SSS Untreated', 'SMS Untreated', 'SMS Treated-ZT', \n",
    "          'SSS Treated-ZT', 'SSS Kami Untreated', 'SSS Kami Treated-ZT',\n",
    "          'SMS Kami Untreated', 'SMS Kami Treated-ZT']\n",
    "sheets2 = ['SSS Bico',\n",
    "          'SSS Bico Treated', 'SSS Vistamax', 'SSS P&G irgatec', \n",
    "          'SSS SB2 Prime']\n",
    "for sheet in sheets:\n",
    "    df = pd.read_excel('../data/slitter_knife_loss/WebWidthOptimizer.xlsx', \n",
    "                  sheet_name=sheet)\n",
    "#     sns.heatmap(df.iloc[:,3:])\n",
    "    ls = []\n",
    "    for row in df.index:\n",
    "        for col in df.columns[3:]:\n",
    "            stuff = list(np.append(df.iloc[row,:3].values, col))\n",
    "            stuff.append(df.iloc[row][col])\n",
    "            ls.append(stuff)\n",
    "    data = np.array(ls)\n",
    "    print(data.shape)\n",
    "    x = data[:,:-1]\n",
    "    y = data[:,-1]\n",
    "    X_train, X_test, y_train, y_test = train_test_split(x, y, test_size=0.2, random_state=42)\n",
    "    knn = KNeighborsRegressor(n_neighbors=2)\n",
    "    knn.fit(X_train, y_train)\n",
    "    print('80/20 train/test, train score: {:.4f}'.format(knn.score(X_train, y_train)))\n",
    "    print('80/20 train/test, test score: {:.4f}'.format(knn.score(X_test, y_test)))\n",
    "    knn = KNeighborsRegressor(n_neighbors=2)\n",
    "    knn.fit(x,y)\n",
    "    print('Full dataset score: {:.4f}'.format(knn.score(x, y)), end='\\n\\n')\n",
    "#     joblib.dump(knn, \"{}.sav\".format(sheet))"
   ]
  },
  {
   "cell_type": "code",
   "execution_count": null,
   "metadata": {},
   "outputs": [],
   "source": [
    "sheets = ['SSS Untreated', 'SMS Untreated', 'SMS Treated-ZT', \n",
    "          'SSS Treated-ZT', 'SSS Kami Untreated', 'SSS Kami Treated-ZT',\n",
    "          'SMS Kami Untreated', 'SMS Kami Treated-ZT']   \n",
    "def plot_heat(sheet=sheets):\n",
    "    df = pd.read_excel('../data/slitter_knife_loss/WebWidthOptimizer.xlsx', \n",
    "                  sheet_name=sheet)\n",
    "    fig, ax = plt.subplots(1, 1, figsize=(10,10))\n",
    "    sns.heatmap(df.iloc[:,3:], ax=ax)\n",
    "    ax.set_title(f'{sheet}')"
   ]
  },
  {
   "cell_type": "code",
   "execution_count": null,
   "metadata": {},
   "outputs": [],
   "source": [
    "interact(plot_heat)"
   ]
  },
  {
   "cell_type": "code",
   "execution_count": null,
   "metadata": {},
   "outputs": [],
   "source": [
    "print(knn.score(X_train, y_train))\n",
    "print(knn.score(X_test, y_test))"
   ]
  }
 ],
 "metadata": {
  "kernelspec": {
   "display_name": "Python 3",
   "language": "python",
   "name": "python3"
  },
  "language_info": {
   "codemirror_mode": {
    "name": "ipython",
    "version": 3
   },
   "file_extension": ".py",
   "mimetype": "text/x-python",
   "name": "python",
   "nbconvert_exporter": "python",
   "pygments_lexer": "ipython3",
   "version": "3.7.4"
  }
 },
 "nbformat": 4,
 "nbformat_minor": 4
}
