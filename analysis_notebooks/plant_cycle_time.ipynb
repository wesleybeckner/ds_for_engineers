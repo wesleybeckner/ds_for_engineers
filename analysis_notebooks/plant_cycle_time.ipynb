{
 "cells": [
  {
   "cell_type": "code",
   "execution_count": 1,
   "metadata": {},
   "outputs": [],
   "source": [
    "import pandas as pd\n",
    "import numpy as np\n",
    "import plotly.express as px\n",
    "from plotly.subplots import make_subplots\n",
    "from ipywidgets import interact, ToggleButtons, SelectMultiple\n",
    "import copy"
   ]
  },
  {
   "cell_type": "code",
   "execution_count": 2,
   "metadata": {},
   "outputs": [],
   "source": [
    "pd.options.display.max_rows = 100\n",
    "pd.options.display.max_columns = 50"
   ]
  },
  {
   "cell_type": "code",
   "execution_count": 4,
   "metadata": {},
   "outputs": [],
   "source": [
    "oakdf = pd.read_excel('../data/plant_cycle_time/oakcreek_cycle_time_0119_0520.xlsx', header=1)"
   ]
  },
  {
   "cell_type": "markdown",
   "metadata": {},
   "source": [
    "# For Pittsburg Meeting\n",
    "## Consolidate products/reactors\n",
    "\n",
    "Volumes by family – delete what I don’t make more than 1-2 times per year. See how much capacity is opened up – shutdown reactors 7, 2, 3. Keep just higher volume products."
   ]
  },
  {
   "cell_type": "code",
   "execution_count": 5,
   "metadata": {},
   "outputs": [],
   "source": [
    "# select oakdf or cledf\n",
    "df = copy.deepcopy(oakdf)"
   ]
  },
  {
   "cell_type": "code",
   "execution_count": 6,
   "metadata": {},
   "outputs": [
    {
     "name": "stdout",
     "output_type": "stream",
     "text": [
      "Batch Completion Date\n",
      "First Inv Pick\n",
      "First Reservation Created\n",
      "Last Inv Pick\n",
      "Last Reservation Created\n",
      "First Formulated Consumed Material\n",
      "Last Formulated Consumed Material\n",
      "First QC Consumed Material\n",
      "Last QC Consumed Material\n",
      "First Material Consumption to First Sample\n",
      "TO.80 Log Date\n",
      "Preship And Fill Date\n",
      "TO.80 Approval Date\n",
      "Min SKU WIP Start Date\n",
      "First WIP Completion Transaction\n",
      "Last WIP Completion Transaction\n",
      "TO.90 Log Date\n",
      "TO.90 Approval Date\n",
      "Min Date\n",
      "Max Date\n",
      "\n",
      "Picking Time\n",
      "Total PA Time\n",
      "Total Formulated Material Consumption Time\n",
      "QC Adjustment Material Consumption Time\n",
      "Total Material Consumption Time\n",
      "T80 TO PSF Time\n",
      "Total TO.80 Time\n",
      "Container Filling Time\n",
      "Total Fill Time\n",
      "Total TO.90 Time\n",
      "Total Cycle Time\n",
      "\n",
      "Inventory Org Code\n",
      "Batch Number\n",
      "Cost Center\n",
      "Technology\n",
      "Recipe No\n",
      "Recipe Version\n",
      "Product\n",
      "Inventory Category\n",
      "Equalization Lot Number\n",
      "Parent Batch Planned Qty\n",
      "Parent Batch Actual Qty\n",
      "Parent Batch UOM\n",
      "Move Order Created\n"
     ]
    },
    {
     "data": {
      "text/plain": [
       "[None, None, None, None, None, None, None, None, None, None, None, None, None]"
      ]
     },
     "execution_count": 6,
     "metadata": {},
     "output_type": "execute_result"
    }
   ],
   "source": [
    "dates = [i for i in df.columns if ('Date' in i or 'First' in i or 'Last' in i)]\n",
    "times = [i for i in df.columns if 'Time' in i]\n",
    "other = [i for i in df.columns if (i not in dates and i not in times)]\n",
    "[print(i) for i in dates]\n",
    "print()\n",
    "[print(i) for i in times]\n",
    "print()\n",
    "[print(i) for i in other]"
   ]
  },
  {
   "cell_type": "code",
   "execution_count": 7,
   "metadata": {},
   "outputs": [
    {
     "name": "stdout",
     "output_type": "stream",
     "text": [
      "Total Material Consumption Time\n"
     ]
    }
   ],
   "source": [
    "for col in times:\n",
    "    try:\n",
    "        df[col] = pd.to_timedelta(df[col])\n",
    "        df[col] = df[col].dt.total_seconds()/60/60 #convert timedelta to hours\n",
    "    except:\n",
    "        print(col)"
   ]
  },
  {
   "cell_type": "code",
   "execution_count": 8,
   "metadata": {},
   "outputs": [
    {
     "data": {
      "text/plain": [
       "(21410, 5)"
      ]
     },
     "execution_count": 8,
     "metadata": {},
     "output_type": "execute_result"
    }
   ],
   "source": [
    "dff = df[['Product', 'Technology', 'Total Cycle Time', 'Parent Batch Actual Qty', 'Batch Completion Date']]\n",
    "dff.shape"
   ]
  },
  {
   "cell_type": "code",
   "execution_count": 9,
   "metadata": {},
   "outputs": [
    {
     "data": {
      "text/html": [
       "<div>\n",
       "<style scoped>\n",
       "    .dataframe tbody tr th:only-of-type {\n",
       "        vertical-align: middle;\n",
       "    }\n",
       "\n",
       "    .dataframe tbody tr th {\n",
       "        vertical-align: top;\n",
       "    }\n",
       "\n",
       "    .dataframe thead th {\n",
       "        text-align: right;\n",
       "    }\n",
       "</style>\n",
       "<table border=\"1\" class=\"dataframe\">\n",
       "  <thead>\n",
       "    <tr style=\"text-align: right;\">\n",
       "      <th></th>\n",
       "      <th>Product</th>\n",
       "      <th>Technology</th>\n",
       "      <th>Total Cycle Time</th>\n",
       "      <th>Parent Batch Actual Qty</th>\n",
       "      <th>Batch Completion Date</th>\n",
       "    </tr>\n",
       "  </thead>\n",
       "  <tbody>\n",
       "    <tr>\n",
       "      <th>0</th>\n",
       "      <td>CMPP4100H</td>\n",
       "      <td>A-LIQUID</td>\n",
       "      <td>106.394444</td>\n",
       "      <td>3253.00000</td>\n",
       "      <td>2019-02-23</td>\n",
       "    </tr>\n",
       "    <tr>\n",
       "      <th>1</th>\n",
       "      <td>SPM76570</td>\n",
       "      <td>I-LIQUID</td>\n",
       "      <td>1514.857778</td>\n",
       "      <td>514.75614</td>\n",
       "      <td>2019-05-13</td>\n",
       "    </tr>\n",
       "    <tr>\n",
       "      <th>2</th>\n",
       "      <td>SPM76570</td>\n",
       "      <td>I-LIQUID</td>\n",
       "      <td>3.814722</td>\n",
       "      <td>256.60143</td>\n",
       "      <td>2019-06-03</td>\n",
       "    </tr>\n",
       "    <tr>\n",
       "      <th>3</th>\n",
       "      <td>WOSPM76570/TT</td>\n",
       "      <td>I-LIQUID</td>\n",
       "      <td>3.814722</td>\n",
       "      <td>0.00000</td>\n",
       "      <td>2019-06-03</td>\n",
       "    </tr>\n",
       "    <tr>\n",
       "      <th>4</th>\n",
       "      <td>W5646-6</td>\n",
       "      <td>I-LIQUID</td>\n",
       "      <td>109.316944</td>\n",
       "      <td>268.77470</td>\n",
       "      <td>2019-02-23</td>\n",
       "    </tr>\n",
       "  </tbody>\n",
       "</table>\n",
       "</div>"
      ],
      "text/plain": [
       "         Product Technology  Total Cycle Time  Parent Batch Actual Qty  \\\n",
       "0      CMPP4100H   A-LIQUID        106.394444               3253.00000   \n",
       "1       SPM76570   I-LIQUID       1514.857778                514.75614   \n",
       "2       SPM76570   I-LIQUID          3.814722                256.60143   \n",
       "3  WOSPM76570/TT   I-LIQUID          3.814722                  0.00000   \n",
       "4        W5646-6   I-LIQUID        109.316944                268.77470   \n",
       "\n",
       "  Batch Completion Date  \n",
       "0            2019-02-23  \n",
       "1            2019-05-13  \n",
       "2            2019-06-03  \n",
       "3            2019-06-03  \n",
       "4            2019-02-23  "
      ]
     },
     "execution_count": 9,
     "metadata": {},
     "output_type": "execute_result"
    }
   ],
   "source": [
    "dff.head()"
   ]
  },
  {
   "cell_type": "code",
   "execution_count": 10,
   "metadata": {},
   "outputs": [
    {
     "data": {
      "text/plain": [
       "(19895, 5)"
      ]
     },
     "execution_count": 10,
     "metadata": {},
     "output_type": "execute_result"
    }
   ],
   "source": [
    "dff = dff.loc[dff['Total Cycle Time'] > .25] # greater than a quarter hour\n",
    "dff = dff.loc[dff['Parent Batch Actual Qty'] > 10] # more than 10 gal\n",
    "dff = dff.loc[dff['Technology'] != 'RESINS']\n",
    "dff = dff.loc[dff['Technology'] != 'RAWMATERIAL']\n",
    "dff = dff.loc[dff['Technology'] != 'Unspecified']\n",
    "dff = dff.loc[dff['Technology'] != 'A-Solvent resin']\n",
    "dff = dff.loc[dff['Technology'] != 'I-E-COAT']\n",
    "dff = dff.loc[dff['Technology'] != 'A-E-COAT']\n",
    "dff = dff.loc[dff['Technology'] != 'Ecoat']\n",
    "dff = dff.dropna()\n",
    "dff.shape"
   ]
  },
  {
   "cell_type": "code",
   "execution_count": 11,
   "metadata": {},
   "outputs": [],
   "source": [
    "dff['Family'] = dff['Product'].str.replace('\\d+', '')\n",
    "dff['Gal/Hr'] = dff['Parent Batch Actual Qty']/dff['Total Cycle Time']\n",
    "\n",
    "dff['Product Total Batches'] = dff.groupby(['Product'])['Gal/Hr'].transform('count')\n",
    "dff['Product Total Batches Bin'] = pd.cut(dff['Product Total Batches'], [1,10,20,50,400])\n",
    "dff['Family Total Batches'] = dff.groupby(['Family'])['Gal/Hr'].transform('count')"
   ]
  },
  {
   "cell_type": "code",
   "execution_count": 12,
   "metadata": {},
   "outputs": [],
   "source": [
    "def plot_one(x=dff.columns[2:][::-1], y=dff.columns[2:], c=dff.columns[1:]):\n",
    "    fig = px.scatter(dff, x=x, y=y, color=c,\n",
    "                    title=\"{} vs {}\".format(y,x))\n",
    "    fig.show()"
   ]
  },
  {
   "cell_type": "code",
   "execution_count": 13,
   "metadata": {},
   "outputs": [
    {
     "data": {
      "text/plain": [
       "array(['S', 'O', 'R', '8', 'N', 'I', 'A', 'T', '1', 'U', '7', 'P', nan],\n",
       "      dtype=object)"
      ]
     },
     "execution_count": 13,
     "metadata": {},
     "output_type": "execute_result"
    }
   ],
   "source": [
    "df['Cost Center'].unique()"
   ]
  },
  {
   "cell_type": "code",
   "execution_count": 14,
   "metadata": {},
   "outputs": [
    {
     "data": {
      "text/plain": [
       "Product Total Batches Bin\n",
       "(1, 10]      1625\n",
       "(10, 20]      412\n",
       "(20, 50]      120\n",
       "(50, 400]      14\n",
       "Name: Product, dtype: int64"
      ]
     },
     "execution_count": 14,
     "metadata": {},
     "output_type": "execute_result"
    }
   ],
   "source": [
    "dff.groupby('Product Total Batches Bin')['Product'].nunique()"
   ]
  },
  {
   "cell_type": "code",
   "execution_count": 15,
   "metadata": {
    "scrolled": false
   },
   "outputs": [
    {
     "name": "stderr",
     "output_type": "stream",
     "text": [
      "In /home/wab665/anaconda3/envs/py37/lib/python3.8/site-packages/matplotlib/mpl-data/stylelib/_classic_test.mplstyle: \n",
      "The text.latex.preview rcparam was deprecated in Matplotlib 3.3 and will be removed two minor releases later.\n",
      "In /home/wab665/anaconda3/envs/py37/lib/python3.8/site-packages/matplotlib/mpl-data/stylelib/_classic_test.mplstyle: \n",
      "The mathtext.fallback_to_cm rcparam was deprecated in Matplotlib 3.3 and will be removed two minor releases later.\n",
      "In /home/wab665/anaconda3/envs/py37/lib/python3.8/site-packages/matplotlib/mpl-data/stylelib/_classic_test.mplstyle: Support for setting the 'mathtext.fallback_to_cm' rcParam is deprecated since 3.3 and will be removed two minor releases later; use 'mathtext.fallback : 'cm' instead.\n",
      "In /home/wab665/anaconda3/envs/py37/lib/python3.8/site-packages/matplotlib/mpl-data/stylelib/_classic_test.mplstyle: \n",
      "The validate_bool_maybe_none function was deprecated in Matplotlib 3.3 and will be removed two minor releases later.\n",
      "In /home/wab665/anaconda3/envs/py37/lib/python3.8/site-packages/matplotlib/mpl-data/stylelib/_classic_test.mplstyle: \n",
      "The savefig.jpeg_quality rcparam was deprecated in Matplotlib 3.3 and will be removed two minor releases later.\n",
      "In /home/wab665/anaconda3/envs/py37/lib/python3.8/site-packages/matplotlib/mpl-data/stylelib/_classic_test.mplstyle: \n",
      "The keymap.all_axes rcparam was deprecated in Matplotlib 3.3 and will be removed two minor releases later.\n",
      "In /home/wab665/anaconda3/envs/py37/lib/python3.8/site-packages/matplotlib/mpl-data/stylelib/_classic_test.mplstyle: \n",
      "The animation.avconv_path rcparam was deprecated in Matplotlib 3.3 and will be removed two minor releases later.\n",
      "In /home/wab665/anaconda3/envs/py37/lib/python3.8/site-packages/matplotlib/mpl-data/stylelib/_classic_test.mplstyle: \n",
      "The animation.avconv_args rcparam was deprecated in Matplotlib 3.3 and will be removed two minor releases later.\n"
     ]
    },
    {
     "data": {
      "application/vnd.jupyter.widget-view+json": {
       "model_id": "411359e7dfb1436fab3e2498ede08344",
       "version_major": 2,
       "version_minor": 0
      },
      "text/plain": [
       "interactive(children=(Dropdown(description='x', options=('Family Total Batches', 'Product Total Batches Bin', …"
      ]
     },
     "metadata": {},
     "output_type": "display_data"
    },
    {
     "data": {
      "text/plain": [
       "<function __main__.plot_one(x=Index(['Family Total Batches', 'Product Total Batches Bin',\n",
       "       'Product Total Batches', 'Gal/Hr', 'Family', 'Batch Completion Date',\n",
       "       'Parent Batch Actual Qty', 'Total Cycle Time'],\n",
       "      dtype='object'), y=Index(['Total Cycle Time', 'Parent Batch Actual Qty', 'Batch Completion Date',\n",
       "       'Family', 'Gal/Hr', 'Product Total Batches',\n",
       "       'Product Total Batches Bin', 'Family Total Batches'],\n",
       "      dtype='object'), c=Index(['Technology', 'Total Cycle Time', 'Parent Batch Actual Qty',\n",
       "       'Batch Completion Date', 'Family', 'Gal/Hr', 'Product Total Batches',\n",
       "       'Product Total Batches Bin', 'Family Total Batches'],\n",
       "      dtype='object'))>"
      ]
     },
     "execution_count": 15,
     "metadata": {},
     "output_type": "execute_result"
    }
   ],
   "source": [
    "interact(plot_one)"
   ]
  },
  {
   "cell_type": "code",
   "execution_count": 16,
   "metadata": {},
   "outputs": [],
   "source": [
    "computation = ToggleButtons(\n",
    "    options=['Average', 'Median', 'Sum'],\n",
    "    description='Computation:',\n",
    "    disabled=False,\n",
    "    button_style='', # 'success', 'info', 'warning', 'danger' or ''\n",
    "    tooltips=['Take the Average', 'Take the Median', 'Take the Sum']\n",
    ")\n",
    "def plot_two(computation=computation, \n",
    "             metric=dff.select_dtypes(np.number).columns.tolist()):\n",
    "    if computation == 'Average':\n",
    "        dfg = pd.DataFrame(dff.groupby('Product Total Batches Bin')[metric].mean())\n",
    "    elif computation == 'Median':\n",
    "        dfg = pd.DataFrame(dff.groupby('Product Total Batches Bin')[metric].median())\n",
    "    else:\n",
    "        dfg = pd.DataFrame(dff.groupby('Product Total Batches Bin')[metric].sum())\n",
    "    dfg = dfg.reset_index()\n",
    "    fig = px.bar(x=dfg['Product Total Batches Bin'].astype(str), y=dfg[metric], \n",
    "                 title=\"{} {} as a Function of Times Product Was Made\".format(computation, metric))\n",
    "    fig.show()"
   ]
  },
  {
   "cell_type": "code",
   "execution_count": 17,
   "metadata": {},
   "outputs": [
    {
     "data": {
      "application/vnd.jupyter.widget-view+json": {
       "model_id": "daf48b7f539a451690c90a12bf60f25d",
       "version_major": 2,
       "version_minor": 0
      },
      "text/plain": [
       "interactive(children=(ToggleButtons(description='Computation:', options=('Average', 'Median', 'Sum'), tooltips…"
      ]
     },
     "metadata": {},
     "output_type": "display_data"
    },
    {
     "data": {
      "text/plain": [
       "<function __main__.plot_two(computation=ToggleButtons(description='Computation:', options=('Average', 'Median', 'Sum'), tooltips=('Take the Average', 'Take the Median', 'Take the Sum'), value='Average'), metric=['Total Cycle Time', 'Parent Batch Actual Qty', 'Gal/Hr', 'Product Total Batches', 'Family Total Batches'])>"
      ]
     },
     "execution_count": 17,
     "metadata": {},
     "output_type": "execute_result"
    }
   ],
   "source": [
    "interact(plot_two)"
   ]
  },
  {
   "cell_type": "code",
   "execution_count": 18,
   "metadata": {},
   "outputs": [],
   "source": [
    "selected = SelectMultiple(\n",
    "    options=[pd._libs.interval.Interval(1, 10, closed='right'),\n",
    "             pd._libs.interval.Interval(10, 20, closed='right'),\n",
    "             pd._libs.interval.Interval(20, 50, closed='right'),\n",
    "             pd._libs.interval.Interval(50, 400, closed='right')],\n",
    "    value=[pd._libs.interval.Interval(1, 10, closed='right'),\n",
    "             pd._libs.interval.Interval(10, 20, closed='right')],\n",
    "    description='Bins',\n",
    "    disabled=False\n",
    ")\n",
    "computation = ToggleButtons(\n",
    "    options=['Average', 'Median'],\n",
    "    description='Computation:',\n",
    "    disabled=False,\n",
    "    button_style='', # 'success', 'info', 'warning', 'danger' or ''\n",
    "    tooltips=['Take the Average', 'Take the Median']\n",
    ")\n",
    "def plot_three(selected=selected, computation=computation):\n",
    "    available_cycle_hours = dff.loc[dff['Product Total Batches Bin']\n",
    "                                    .isin(selected)]['Total Cycle Time'].sum()\n",
    "    if computation == 'Average':\n",
    "        remaining_avg_rate = dff.loc[~dff['Product Total Batches Bin']\n",
    "                                         .isin(selected)]['Gal/Hr'].mean()\n",
    "        prev_avg_rate = dff['Gal/Hr'].mean()\n",
    "    else:\n",
    "        remaining_avg_rate = dff.loc[~dff['Product Total Batches Bin']\n",
    "                                         .isin(selected)]['Gal/Hr'].median()\n",
    "        prev_avg_rate = dff['Gal/Hr'].median()\n",
    "    new_production_gal = available_cycle_hours * remaining_avg_rate\n",
    "\n",
    "    \n",
    "    prev_production = dff['Parent Batch Actual Qty'].sum()\n",
    "    dfff = pd.DataFrame([[prev_avg_rate, remaining_avg_rate],\n",
    "                  [prev_production,prev_production+new_production_gal]],\n",
    "                columns=['Previous', 'New'],\n",
    "                index=['Rate (Gal/Hr)', 'Production (Gal)']).T\n",
    "    fig = make_subplots(rows=1, cols=2, \n",
    "                        subplot_titles=['Rate (Gal/Hr)', 'Production (Gal)'])\n",
    "    \n",
    "    fig.add_trace(\n",
    "        px.bar(dfff, y='Rate (Gal/Hr)',  x=dfff.index).data[0],\n",
    "        row=1, col=1,\n",
    "    )\n",
    "    \n",
    "    fig.add_trace(\n",
    "        px.bar(dfff, y='Production (Gal)',  x=dfff.index).data[0],\n",
    "        row=1, col=2,\n",
    "    )\n",
    "    fig.update_layout(\n",
    "        title_text='Impact of Repurpoposing Capacity to More Frequently Made Products')\n",
    "    fig.show()"
   ]
  },
  {
   "cell_type": "code",
   "execution_count": 19,
   "metadata": {},
   "outputs": [
    {
     "data": {
      "text/plain": [
       "1.75"
      ]
     },
     "execution_count": 19,
     "metadata": {},
     "output_type": "execute_result"
    }
   ],
   "source": [
    "35/20"
   ]
  },
  {
   "cell_type": "code",
   "execution_count": 20,
   "metadata": {},
   "outputs": [
    {
     "data": {
      "application/vnd.jupyter.widget-view+json": {
       "model_id": "0015c770d7e148afb4ee3ebfe2970c72",
       "version_major": 2,
       "version_minor": 0
      },
      "text/plain": [
       "interactive(children=(SelectMultiple(description='Bins', index=(0, 1), options=(Interval(1, 10, closed='right'…"
      ]
     },
     "metadata": {},
     "output_type": "display_data"
    },
    {
     "data": {
      "text/plain": [
       "<function __main__.plot_three(selected=SelectMultiple(description='Bins', index=(0, 1), options=(Interval(1, 10, closed='right'), Interval(10, 20, closed='right'), Interval(20, 50, closed='right'), Interval(50, 400, closed='right')), value=(Interval(1, 10, closed='right'), Interval(10, 20, closed='right'))), computation=ToggleButtons(description='Computation:', options=('Average', 'Median'), tooltips=('Take the Average', 'Take the Median'), value='Average'))>"
      ]
     },
     "execution_count": 20,
     "metadata": {},
     "output_type": "execute_result"
    }
   ],
   "source": [
    "interact(plot_three)"
   ]
  },
  {
   "cell_type": "markdown",
   "metadata": {},
   "source": [
    "# Cycle Times"
   ]
  },
  {
   "cell_type": "code",
   "execution_count": null,
   "metadata": {},
   "outputs": [],
   "source": []
  }
 ],
 "metadata": {
  "kernelspec": {
   "display_name": "Python 3",
   "language": "python",
   "name": "python3"
  },
  "language_info": {
   "codemirror_mode": {
    "name": "ipython",
    "version": 3
   },
   "file_extension": ".py",
   "mimetype": "text/x-python",
   "name": "python",
   "nbconvert_exporter": "python",
   "pygments_lexer": "ipython3",
   "version": "3.8.1"
  }
 },
 "nbformat": 4,
 "nbformat_minor": 4
}
