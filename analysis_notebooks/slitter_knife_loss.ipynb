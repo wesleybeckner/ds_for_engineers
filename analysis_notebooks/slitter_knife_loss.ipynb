{
 "cells": [
  {
   "cell_type": "code",
   "execution_count": 22,
   "metadata": {},
   "outputs": [],
   "source": [
    "import pandas as pd\n",
    "import numpy as np\n",
    "import seaborn as sns\n",
    "from sklearn.neighbors import KNeighborsClassifier\n",
    "from sklearn.neighbors import KNeighborsRegressor\n",
    "from sklearn.model_selection import train_test_split\n",
    "import matplotlib.pyplot as plt\n",
    "import joblib\n",
    "from ipywidgets import interact"
   ]
  },
  {
   "cell_type": "markdown",
   "metadata": {},
   "source": [
    "# API\n",
    "\n",
    "send - type/treatment, GSM, full width line 11, full width line 13; receive neck-in and confidence level"
   ]
  },
  {
   "cell_type": "code",
   "execution_count": 5,
   "metadata": {},
   "outputs": [],
   "source": [
    "def schedule_api(treat, gsm, width11, width13, slitwidth):\n",
    "    knn = joblib.load(\"../data/slitter_knife_loss/{}.sav\".format(treat))\n",
    "    pred = knn.predict([[gsm, width11, width13, slitwidth]])\n",
    "    pred = round(pred[0])\n",
    "    return \"\"\"{}\"\"\".format(pred)"
   ]
  },
  {
   "cell_type": "code",
   "execution_count": 6,
   "metadata": {},
   "outputs": [
    {
     "data": {
      "text/plain": [
       "'5'"
      ]
     },
     "execution_count": 6,
     "metadata": {},
     "output_type": "execute_result"
    }
   ],
   "source": [
    "schedule_api(\"SSS Untreated\", 9, 4325, 4365, 400)"
   ]
  },
  {
   "cell_type": "markdown",
   "metadata": {},
   "source": [
    "# Train"
   ]
  },
  {
   "cell_type": "code",
   "execution_count": 20,
   "metadata": {},
   "outputs": [
    {
     "name": "stdout",
     "output_type": "stream",
     "text": [
      "(3066, 5)\n",
      "80/20 train/test, train score: 0.9950\n",
      "80/20 train/test, test score: 0.9726\n",
      "Full dataset score: 0.9956\n",
      "\n",
      "(3066, 5)\n",
      "80/20 train/test, train score: 0.9925\n",
      "80/20 train/test, test score: 0.9642\n",
      "Full dataset score: 0.9934\n",
      "\n",
      "(3066, 5)\n",
      "80/20 train/test, train score: 0.9935\n",
      "80/20 train/test, test score: 0.9699\n",
      "Full dataset score: 0.9945\n",
      "\n",
      "(3066, 5)\n",
      "80/20 train/test, train score: 0.9945\n",
      "80/20 train/test, test score: 0.9741\n",
      "Full dataset score: 0.9956\n",
      "\n",
      "(3066, 5)\n",
      "80/20 train/test, train score: 0.9974\n",
      "80/20 train/test, test score: 0.9889\n",
      "Full dataset score: 0.9978\n",
      "\n",
      "(3066, 5)\n",
      "80/20 train/test, train score: 0.9950\n",
      "80/20 train/test, test score: 0.9800\n",
      "Full dataset score: 0.9959\n",
      "\n",
      "(3066, 5)\n",
      "80/20 train/test, train score: 0.9948\n",
      "80/20 train/test, test score: 0.9785\n",
      "Full dataset score: 0.9954\n",
      "\n",
      "(3066, 5)\n",
      "80/20 train/test, train score: 0.9948\n",
      "80/20 train/test, test score: 0.9785\n",
      "Full dataset score: 0.9954\n",
      "\n"
     ]
    }
   ],
   "source": [
    "sheets = ['SSS Untreated', 'SMS Untreated', 'SMS Treated-ZT', \n",
    "          'SSS Treated-ZT', 'SSS Kami Untreated', 'SSS Kami Treated-ZT',\n",
    "          'SMS Kami Untreated', 'SMS Kami Treated-ZT']\n",
    "sheets2 = ['SSS Bico',\n",
    "          'SSS Bico Treated', 'SSS Vistamax', 'SSS P&G irgatec', \n",
    "          'SSS SB2 Prime']\n",
    "for sheet in sheets:\n",
    "    df = pd.read_excel('../data/slitter_knife_loss/WebWidthOptimizer.xlsx', \n",
    "                  sheet_name=sheet)\n",
    "#     sns.heatmap(df.iloc[:,3:])\n",
    "    ls = []\n",
    "    for row in df.index:\n",
    "        for col in df.columns[3:]:\n",
    "            stuff = list(np.append(df.iloc[row,:3].values, col))\n",
    "            stuff.append(df.iloc[row][col])\n",
    "            ls.append(stuff)\n",
    "    data = np.array(ls)\n",
    "    print(data.shape)\n",
    "    x = data[:,:-1]\n",
    "    y = data[:,-1]\n",
    "    X_train, X_test, y_train, y_test = train_test_split(x, y, test_size=0.2, random_state=42)\n",
    "    knn = KNeighborsRegressor(n_neighbors=2)\n",
    "    knn.fit(X_train, y_train)\n",
    "    print('80/20 train/test, train score: {:.4f}'.format(knn.score(X_train, y_train)))\n",
    "    print('80/20 train/test, test score: {:.4f}'.format(knn.score(X_test, y_test)))\n",
    "    knn = KNeighborsRegressor(n_neighbors=2)\n",
    "    knn.fit(x,y)\n",
    "    print('Full dataset score: {:.4f}'.format(knn.score(x, y)), end='\\n\\n')\n",
    "#     joblib.dump(knn, \"{}.sav\".format(sheet))"
   ]
  },
  {
   "cell_type": "code",
   "execution_count": 21,
   "metadata": {},
   "outputs": [],
   "source": [
    "sheets = ['SSS Untreated', 'SMS Untreated', 'SMS Treated-ZT', \n",
    "          'SSS Treated-ZT', 'SSS Kami Untreated', 'SSS Kami Treated-ZT',\n",
    "          'SMS Kami Untreated', 'SMS Kami Treated-ZT']   \n",
    "def plot_heat(sheet=sheets):\n",
    "    df = pd.read_excel('../data/slitter_knife_loss/WebWidthOptimizer.xlsx', \n",
    "                  sheet_name=sheet)\n",
    "    fig, ax = plt.subplots(1, 1, figsize=(10,10))\n",
    "    sns.heatmap(df.iloc[:,3:], ax=ax)\n",
    "    ax.set_title(f'{sheet}')"
   ]
  },
  {
   "cell_type": "code",
   "execution_count": 23,
   "metadata": {},
   "outputs": [
    {
     "data": {
      "application/vnd.jupyter.widget-view+json": {
       "model_id": "801ce0e293584c7899b8bed34551a042",
       "version_major": 2,
       "version_minor": 0
      },
      "text/plain": [
       "interactive(children=(Dropdown(description='sheet', options=('SSS Untreated', 'SMS Untreated', 'SMS Treated-ZT…"
      ]
     },
     "metadata": {},
     "output_type": "display_data"
    },
    {
     "data": {
      "text/plain": [
       "<function __main__.plot_heat(sheet=['SSS Untreated', 'SMS Untreated', 'SMS Treated-ZT', 'SSS Treated-ZT', 'SSS Kami Untreated', 'SSS Kami Treated-ZT', 'SMS Kami Untreated', 'SMS Kami Treated-ZT'])>"
      ]
     },
     "execution_count": 23,
     "metadata": {},
     "output_type": "execute_result"
    }
   ],
   "source": [
    "interact(plot_heat)"
   ]
  },
  {
   "cell_type": "code",
   "execution_count": 193,
   "metadata": {},
   "outputs": [
    {
     "name": "stdout",
     "output_type": "stream",
     "text": [
      "0.994966650034287\n",
      "0.9800289723827175\n"
     ]
    }
   ],
   "source": [
    "print(knn.score(X_train, y_train))\n",
    "print(knn.score(X_test, y_test))"
   ]
  }
 ],
 "metadata": {
  "kernelspec": {
   "display_name": "Python 3",
   "language": "python",
   "name": "python3"
  },
  "language_info": {
   "codemirror_mode": {
    "name": "ipython",
    "version": 3
   },
   "file_extension": ".py",
   "mimetype": "text/x-python",
   "name": "python",
   "nbconvert_exporter": "python",
   "pygments_lexer": "ipython3",
   "version": "3.8.1"
  }
 },
 "nbformat": 4,
 "nbformat_minor": 4
}
